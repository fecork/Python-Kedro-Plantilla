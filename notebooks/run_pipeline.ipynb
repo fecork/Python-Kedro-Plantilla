{
 "cells": [
  {
   "cell_type": "code",
   "execution_count": 1,
   "id": "d0dda8f5",
   "metadata": {
    "ExecuteTime": {
     "end_time": "2021-09-07T16:07:37.539761Z",
     "start_time": "2021-09-07T16:07:37.486208Z"
    }
   },
   "outputs": [
    {
     "ename": "NameError",
     "evalue": "name 'session' is not defined",
     "output_type": "error",
     "traceback": [
      "\u001b[1;31m---------------------------------------------------------------------------\u001b[0m",
      "\u001b[1;31mNameError\u001b[0m                                 Traceback (most recent call last)",
      "\u001b[1;32m~\\AppData\\Local\\Temp\\ipykernel_17496\\2844007100.py\u001b[0m in \u001b[0;36m<cell line: 1>\u001b[1;34m()\u001b[0m\n\u001b[1;32m----> 1\u001b[1;33m \u001b[0moutputs\u001b[0m \u001b[1;33m=\u001b[0m \u001b[0msession\u001b[0m\u001b[1;33m.\u001b[0m\u001b[0mrun\u001b[0m\u001b[1;33m(\u001b[0m\u001b[0mpipeline_name\u001b[0m\u001b[1;33m=\u001b[0m\u001b[1;34m'de'\u001b[0m\u001b[1;33m,\u001b[0m \u001b[0mto_nodes\u001b[0m\u001b[1;33m=\u001b[0m\u001b[1;33m[\u001b[0m\u001b[1;34m'get_classes'\u001b[0m\u001b[1;33m]\u001b[0m\u001b[1;33m)\u001b[0m\u001b[1;33m\u001b[0m\u001b[1;33m\u001b[0m\u001b[0m\n\u001b[0m",
      "\u001b[1;31mNameError\u001b[0m: name 'session' is not defined"
     ]
    }
   ],
   "source": [
    "outputs = session.run(pipeline_name='de', to_nodes=['get_classes'])"
   ]
  },
  {
   "cell_type": "code",
   "execution_count": 7,
   "id": "287340e6",
   "metadata": {
    "ExecuteTime": {
     "end_time": "2021-09-07T16:07:38.738242Z",
     "start_time": "2021-09-07T16:07:38.729507Z"
    }
   },
   "outputs": [
    {
     "data": {
      "text/plain": [
       "{'classes': ['setosa', 'versicolor', 'virginica']}"
      ]
     },
     "execution_count": 7,
     "metadata": {},
     "output_type": "execute_result"
    }
   ],
   "source": [
    "outputs"
   ]
  }
 ],
 "metadata": {
  "kernelspec": {
   "display_name": "Python 3 (ipykernel)",
   "language": "python",
   "name": "python3"
  },
  "language_info": {
   "codemirror_mode": {
    "name": "ipython",
    "version": 3
   },
   "file_extension": ".py",
   "mimetype": "text/x-python",
   "name": "python",
   "nbconvert_exporter": "python",
   "pygments_lexer": "ipython3",
   "version": "3.9.13"
  },
  "toc": {
   "base_numbering": 1,
   "nav_menu": {},
   "number_sections": true,
   "sideBar": true,
   "skip_h1_title": false,
   "title_cell": "Table of Contents",
   "title_sidebar": "Contents",
   "toc_cell": false,
   "toc_position": {},
   "toc_section_display": true,
   "toc_window_display": false
  }
 },
 "nbformat": 4,
 "nbformat_minor": 5
}
